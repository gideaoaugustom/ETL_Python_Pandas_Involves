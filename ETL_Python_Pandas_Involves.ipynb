{
  "nbformat": 4,
  "nbformat_minor": 0,
  "metadata": {
    "colab": {
      "provenance": [],
      "authorship_tag": "ABX9TyN/ObNz1nQUm4X1rXZE7FTA",
      "include_colab_link": true
    },
    "kernelspec": {
      "name": "python3",
      "display_name": "Python 3"
    },
    "language_info": {
      "name": "python"
    }
  },
  "cells": [
    {
      "cell_type": "markdown",
      "metadata": {
        "id": "view-in-github",
        "colab_type": "text"
      },
      "source": [
        "<a href=\"https://colab.research.google.com/github/gideaoaugustom/ETL_Python_Pandas_Involves/blob/main/ETL_Python_Pandas_Involves.ipynb\" target=\"_parent\"><img src=\"https://colab.research.google.com/assets/colab-badge.svg\" alt=\"Open In Colab\"/></a>"
      ]
    },
    {
      "cell_type": "code",
      "execution_count": 39,
      "metadata": {
        "id": "rh1tHpVYOI6v"
      },
      "outputs": [],
      "source": []
    },
    {
      "cell_type": "code",
      "source": [
        "import pandas as pd\n",
        "import numpy as np\n",
        "import os\n",
        "\n",
        "# Lê o dataset com codificação corrigida\n",
        "df = pd.read_csv('/content/dataset_teste_de.csv', sep=';', encoding='latin1')\n",
        "\n",
        "print(\"Dataset carregado com sucesso !\")\n",
        "print(df.shape)\n",
        "df.head()\n"
      ],
      "metadata": {
        "colab": {
          "base_uri": "https://localhost:8080/",
          "height": 278
        },
        "id": "yJeDw2ZLOuUw",
        "outputId": "0627bdcb-c884-478e-b8b7-a26c1c61f96a"
      },
      "execution_count": 40,
      "outputs": [
        {
          "output_type": "stream",
          "name": "stdout",
          "text": [
            "Dataset carregado com sucesso !\n",
            "(40, 10)\n"
          ]
        },
        {
          "output_type": "execute_result",
          "data": {
            "text/plain": [
              "   ID_DATASET  ID_PONTO_VENDA NOME_PONTO_VENDA PERFIL_PONTO_VENDA        DATA  \\\n",
              "0        1021             115         INVOLVES           ATACADAO  01/09/2020   \n",
              "1        1022             115         INVOLVES           ATACADAO  02/09/2020   \n",
              "2        1023             115         INVOLVES           ATACADAO  03/09/2020   \n",
              "3        1024             115         INVOLVES           ATACADAO  04/09/2020   \n",
              "4        1025             115         INVOLVES           ATACADAO  05/09/2020   \n",
              "\n",
              "   ID_LINHA_PRODUTO  NOME_LINHA_PRODUTO MARCA_LINHA_PRODUTO      TIPO_COLETA  \\\n",
              "0               398  BISCOITOS SORTIDOS       INVOLVES ZERO  DISPONIBILIDADE   \n",
              "1               407           MARGARINA       INVOLVES ZERO  DISPONIBILIDADE   \n",
              "2               408            MANTEIGA       INVOLVES ZERO  DISPONIBILIDADE   \n",
              "3               422         LEITE EM PO       INVOLVES ZERO  DISPONIBILIDADE   \n",
              "4               423             MAISENA       INVOLVES ZERO  DISPONIBILIDADE   \n",
              "\n",
              "  VALOR  \n",
              "0   SIM  \n",
              "1   SIM  \n",
              "2   SIM  \n",
              "3   NÃO  \n",
              "4   SIM  "
            ],
            "text/html": [
              "\n",
              "  <div id=\"df-8e21fae8-2fcb-4779-b4a4-2d32526ccc11\" class=\"colab-df-container\">\n",
              "    <div>\n",
              "<style scoped>\n",
              "    .dataframe tbody tr th:only-of-type {\n",
              "        vertical-align: middle;\n",
              "    }\n",
              "\n",
              "    .dataframe tbody tr th {\n",
              "        vertical-align: top;\n",
              "    }\n",
              "\n",
              "    .dataframe thead th {\n",
              "        text-align: right;\n",
              "    }\n",
              "</style>\n",
              "<table border=\"1\" class=\"dataframe\">\n",
              "  <thead>\n",
              "    <tr style=\"text-align: right;\">\n",
              "      <th></th>\n",
              "      <th>ID_DATASET</th>\n",
              "      <th>ID_PONTO_VENDA</th>\n",
              "      <th>NOME_PONTO_VENDA</th>\n",
              "      <th>PERFIL_PONTO_VENDA</th>\n",
              "      <th>DATA</th>\n",
              "      <th>ID_LINHA_PRODUTO</th>\n",
              "      <th>NOME_LINHA_PRODUTO</th>\n",
              "      <th>MARCA_LINHA_PRODUTO</th>\n",
              "      <th>TIPO_COLETA</th>\n",
              "      <th>VALOR</th>\n",
              "    </tr>\n",
              "  </thead>\n",
              "  <tbody>\n",
              "    <tr>\n",
              "      <th>0</th>\n",
              "      <td>1021</td>\n",
              "      <td>115</td>\n",
              "      <td>INVOLVES</td>\n",
              "      <td>ATACADAO</td>\n",
              "      <td>01/09/2020</td>\n",
              "      <td>398</td>\n",
              "      <td>BISCOITOS SORTIDOS</td>\n",
              "      <td>INVOLVES ZERO</td>\n",
              "      <td>DISPONIBILIDADE</td>\n",
              "      <td>SIM</td>\n",
              "    </tr>\n",
              "    <tr>\n",
              "      <th>1</th>\n",
              "      <td>1022</td>\n",
              "      <td>115</td>\n",
              "      <td>INVOLVES</td>\n",
              "      <td>ATACADAO</td>\n",
              "      <td>02/09/2020</td>\n",
              "      <td>407</td>\n",
              "      <td>MARGARINA</td>\n",
              "      <td>INVOLVES ZERO</td>\n",
              "      <td>DISPONIBILIDADE</td>\n",
              "      <td>SIM</td>\n",
              "    </tr>\n",
              "    <tr>\n",
              "      <th>2</th>\n",
              "      <td>1023</td>\n",
              "      <td>115</td>\n",
              "      <td>INVOLVES</td>\n",
              "      <td>ATACADAO</td>\n",
              "      <td>03/09/2020</td>\n",
              "      <td>408</td>\n",
              "      <td>MANTEIGA</td>\n",
              "      <td>INVOLVES ZERO</td>\n",
              "      <td>DISPONIBILIDADE</td>\n",
              "      <td>SIM</td>\n",
              "    </tr>\n",
              "    <tr>\n",
              "      <th>3</th>\n",
              "      <td>1024</td>\n",
              "      <td>115</td>\n",
              "      <td>INVOLVES</td>\n",
              "      <td>ATACADAO</td>\n",
              "      <td>04/09/2020</td>\n",
              "      <td>422</td>\n",
              "      <td>LEITE EM PO</td>\n",
              "      <td>INVOLVES ZERO</td>\n",
              "      <td>DISPONIBILIDADE</td>\n",
              "      <td>NÃO</td>\n",
              "    </tr>\n",
              "    <tr>\n",
              "      <th>4</th>\n",
              "      <td>1025</td>\n",
              "      <td>115</td>\n",
              "      <td>INVOLVES</td>\n",
              "      <td>ATACADAO</td>\n",
              "      <td>05/09/2020</td>\n",
              "      <td>423</td>\n",
              "      <td>MAISENA</td>\n",
              "      <td>INVOLVES ZERO</td>\n",
              "      <td>DISPONIBILIDADE</td>\n",
              "      <td>SIM</td>\n",
              "    </tr>\n",
              "  </tbody>\n",
              "</table>\n",
              "</div>\n",
              "    <div class=\"colab-df-buttons\">\n",
              "\n",
              "  <div class=\"colab-df-container\">\n",
              "    <button class=\"colab-df-convert\" onclick=\"convertToInteractive('df-8e21fae8-2fcb-4779-b4a4-2d32526ccc11')\"\n",
              "            title=\"Convert this dataframe to an interactive table.\"\n",
              "            style=\"display:none;\">\n",
              "\n",
              "  <svg xmlns=\"http://www.w3.org/2000/svg\" height=\"24px\" viewBox=\"0 -960 960 960\">\n",
              "    <path d=\"M120-120v-720h720v720H120Zm60-500h600v-160H180v160Zm220 220h160v-160H400v160Zm0 220h160v-160H400v160ZM180-400h160v-160H180v160Zm440 0h160v-160H620v160ZM180-180h160v-160H180v160Zm440 0h160v-160H620v160Z\"/>\n",
              "  </svg>\n",
              "    </button>\n",
              "\n",
              "  <style>\n",
              "    .colab-df-container {\n",
              "      display:flex;\n",
              "      gap: 12px;\n",
              "    }\n",
              "\n",
              "    .colab-df-convert {\n",
              "      background-color: #E8F0FE;\n",
              "      border: none;\n",
              "      border-radius: 50%;\n",
              "      cursor: pointer;\n",
              "      display: none;\n",
              "      fill: #1967D2;\n",
              "      height: 32px;\n",
              "      padding: 0 0 0 0;\n",
              "      width: 32px;\n",
              "    }\n",
              "\n",
              "    .colab-df-convert:hover {\n",
              "      background-color: #E2EBFA;\n",
              "      box-shadow: 0px 1px 2px rgba(60, 64, 67, 0.3), 0px 1px 3px 1px rgba(60, 64, 67, 0.15);\n",
              "      fill: #174EA6;\n",
              "    }\n",
              "\n",
              "    .colab-df-buttons div {\n",
              "      margin-bottom: 4px;\n",
              "    }\n",
              "\n",
              "    [theme=dark] .colab-df-convert {\n",
              "      background-color: #3B4455;\n",
              "      fill: #D2E3FC;\n",
              "    }\n",
              "\n",
              "    [theme=dark] .colab-df-convert:hover {\n",
              "      background-color: #434B5C;\n",
              "      box-shadow: 0px 1px 3px 1px rgba(0, 0, 0, 0.15);\n",
              "      filter: drop-shadow(0px 1px 2px rgba(0, 0, 0, 0.3));\n",
              "      fill: #FFFFFF;\n",
              "    }\n",
              "  </style>\n",
              "\n",
              "    <script>\n",
              "      const buttonEl =\n",
              "        document.querySelector('#df-8e21fae8-2fcb-4779-b4a4-2d32526ccc11 button.colab-df-convert');\n",
              "      buttonEl.style.display =\n",
              "        google.colab.kernel.accessAllowed ? 'block' : 'none';\n",
              "\n",
              "      async function convertToInteractive(key) {\n",
              "        const element = document.querySelector('#df-8e21fae8-2fcb-4779-b4a4-2d32526ccc11');\n",
              "        const dataTable =\n",
              "          await google.colab.kernel.invokeFunction('convertToInteractive',\n",
              "                                                    [key], {});\n",
              "        if (!dataTable) return;\n",
              "\n",
              "        const docLinkHtml = 'Like what you see? Visit the ' +\n",
              "          '<a target=\"_blank\" href=https://colab.research.google.com/notebooks/data_table.ipynb>data table notebook</a>'\n",
              "          + ' to learn more about interactive tables.';\n",
              "        element.innerHTML = '';\n",
              "        dataTable['output_type'] = 'display_data';\n",
              "        await google.colab.output.renderOutput(dataTable, element);\n",
              "        const docLink = document.createElement('div');\n",
              "        docLink.innerHTML = docLinkHtml;\n",
              "        element.appendChild(docLink);\n",
              "      }\n",
              "    </script>\n",
              "  </div>\n",
              "\n",
              "\n",
              "    <div id=\"df-aa57a780-78d4-4923-a4ce-7702d338af9f\">\n",
              "      <button class=\"colab-df-quickchart\" onclick=\"quickchart('df-aa57a780-78d4-4923-a4ce-7702d338af9f')\"\n",
              "                title=\"Suggest charts\"\n",
              "                style=\"display:none;\">\n",
              "\n",
              "<svg xmlns=\"http://www.w3.org/2000/svg\" height=\"24px\"viewBox=\"0 0 24 24\"\n",
              "     width=\"24px\">\n",
              "    <g>\n",
              "        <path d=\"M19 3H5c-1.1 0-2 .9-2 2v14c0 1.1.9 2 2 2h14c1.1 0 2-.9 2-2V5c0-1.1-.9-2-2-2zM9 17H7v-7h2v7zm4 0h-2V7h2v10zm4 0h-2v-4h2v4z\"/>\n",
              "    </g>\n",
              "</svg>\n",
              "      </button>\n",
              "\n",
              "<style>\n",
              "  .colab-df-quickchart {\n",
              "      --bg-color: #E8F0FE;\n",
              "      --fill-color: #1967D2;\n",
              "      --hover-bg-color: #E2EBFA;\n",
              "      --hover-fill-color: #174EA6;\n",
              "      --disabled-fill-color: #AAA;\n",
              "      --disabled-bg-color: #DDD;\n",
              "  }\n",
              "\n",
              "  [theme=dark] .colab-df-quickchart {\n",
              "      --bg-color: #3B4455;\n",
              "      --fill-color: #D2E3FC;\n",
              "      --hover-bg-color: #434B5C;\n",
              "      --hover-fill-color: #FFFFFF;\n",
              "      --disabled-bg-color: #3B4455;\n",
              "      --disabled-fill-color: #666;\n",
              "  }\n",
              "\n",
              "  .colab-df-quickchart {\n",
              "    background-color: var(--bg-color);\n",
              "    border: none;\n",
              "    border-radius: 50%;\n",
              "    cursor: pointer;\n",
              "    display: none;\n",
              "    fill: var(--fill-color);\n",
              "    height: 32px;\n",
              "    padding: 0;\n",
              "    width: 32px;\n",
              "  }\n",
              "\n",
              "  .colab-df-quickchart:hover {\n",
              "    background-color: var(--hover-bg-color);\n",
              "    box-shadow: 0 1px 2px rgba(60, 64, 67, 0.3), 0 1px 3px 1px rgba(60, 64, 67, 0.15);\n",
              "    fill: var(--button-hover-fill-color);\n",
              "  }\n",
              "\n",
              "  .colab-df-quickchart-complete:disabled,\n",
              "  .colab-df-quickchart-complete:disabled:hover {\n",
              "    background-color: var(--disabled-bg-color);\n",
              "    fill: var(--disabled-fill-color);\n",
              "    box-shadow: none;\n",
              "  }\n",
              "\n",
              "  .colab-df-spinner {\n",
              "    border: 2px solid var(--fill-color);\n",
              "    border-color: transparent;\n",
              "    border-bottom-color: var(--fill-color);\n",
              "    animation:\n",
              "      spin 1s steps(1) infinite;\n",
              "  }\n",
              "\n",
              "  @keyframes spin {\n",
              "    0% {\n",
              "      border-color: transparent;\n",
              "      border-bottom-color: var(--fill-color);\n",
              "      border-left-color: var(--fill-color);\n",
              "    }\n",
              "    20% {\n",
              "      border-color: transparent;\n",
              "      border-left-color: var(--fill-color);\n",
              "      border-top-color: var(--fill-color);\n",
              "    }\n",
              "    30% {\n",
              "      border-color: transparent;\n",
              "      border-left-color: var(--fill-color);\n",
              "      border-top-color: var(--fill-color);\n",
              "      border-right-color: var(--fill-color);\n",
              "    }\n",
              "    40% {\n",
              "      border-color: transparent;\n",
              "      border-right-color: var(--fill-color);\n",
              "      border-top-color: var(--fill-color);\n",
              "    }\n",
              "    60% {\n",
              "      border-color: transparent;\n",
              "      border-right-color: var(--fill-color);\n",
              "    }\n",
              "    80% {\n",
              "      border-color: transparent;\n",
              "      border-right-color: var(--fill-color);\n",
              "      border-bottom-color: var(--fill-color);\n",
              "    }\n",
              "    90% {\n",
              "      border-color: transparent;\n",
              "      border-bottom-color: var(--fill-color);\n",
              "    }\n",
              "  }\n",
              "</style>\n",
              "\n",
              "      <script>\n",
              "        async function quickchart(key) {\n",
              "          const quickchartButtonEl =\n",
              "            document.querySelector('#' + key + ' button');\n",
              "          quickchartButtonEl.disabled = true;  // To prevent multiple clicks.\n",
              "          quickchartButtonEl.classList.add('colab-df-spinner');\n",
              "          try {\n",
              "            const charts = await google.colab.kernel.invokeFunction(\n",
              "                'suggestCharts', [key], {});\n",
              "          } catch (error) {\n",
              "            console.error('Error during call to suggestCharts:', error);\n",
              "          }\n",
              "          quickchartButtonEl.classList.remove('colab-df-spinner');\n",
              "          quickchartButtonEl.classList.add('colab-df-quickchart-complete');\n",
              "        }\n",
              "        (() => {\n",
              "          let quickchartButtonEl =\n",
              "            document.querySelector('#df-aa57a780-78d4-4923-a4ce-7702d338af9f button');\n",
              "          quickchartButtonEl.style.display =\n",
              "            google.colab.kernel.accessAllowed ? 'block' : 'none';\n",
              "        })();\n",
              "      </script>\n",
              "    </div>\n",
              "\n",
              "    </div>\n",
              "  </div>\n"
            ],
            "application/vnd.google.colaboratory.intrinsic+json": {
              "type": "dataframe",
              "variable_name": "df",
              "summary": "{\n  \"name\": \"df\",\n  \"rows\": 40,\n  \"fields\": [\n    {\n      \"column\": \"ID_DATASET\",\n      \"properties\": {\n        \"dtype\": \"number\",\n        \"std\": 11,\n        \"min\": 1021,\n        \"max\": 1060,\n        \"num_unique_values\": 40,\n        \"samples\": [\n          1040,\n          1037,\n          1036\n        ],\n        \"semantic_type\": \"\",\n        \"description\": \"\"\n      }\n    },\n    {\n      \"column\": \"ID_PONTO_VENDA\",\n      \"properties\": {\n        \"dtype\": \"number\",\n        \"std\": 0,\n        \"min\": 115,\n        \"max\": 116,\n        \"num_unique_values\": 2,\n        \"samples\": [\n          116,\n          115\n        ],\n        \"semantic_type\": \"\",\n        \"description\": \"\"\n      }\n    },\n    {\n      \"column\": \"NOME_PONTO_VENDA\",\n      \"properties\": {\n        \"dtype\": \"category\",\n        \"num_unique_values\": 2,\n        \"samples\": [\n          \"INVOLVES STAGE\",\n          \"INVOLVES\"\n        ],\n        \"semantic_type\": \"\",\n        \"description\": \"\"\n      }\n    },\n    {\n      \"column\": \"PERFIL_PONTO_VENDA\",\n      \"properties\": {\n        \"dtype\": \"category\",\n        \"num_unique_values\": 2,\n        \"samples\": [\n          \"VAREJISTA\",\n          \"ATACADAO\"\n        ],\n        \"semantic_type\": \"\",\n        \"description\": \"\"\n      }\n    },\n    {\n      \"column\": \"DATA\",\n      \"properties\": {\n        \"dtype\": \"string\",\n        \"num_unique_values\": 20,\n        \"samples\": [\n          \"01/09/2020\",\n          \"18/09/2020\"\n        ],\n        \"semantic_type\": \"\",\n        \"description\": \"\"\n      }\n    },\n    {\n      \"column\": \"ID_LINHA_PRODUTO\",\n      \"properties\": {\n        \"dtype\": \"number\",\n        \"std\": 9,\n        \"min\": 398,\n        \"max\": 423,\n        \"num_unique_values\": 5,\n        \"samples\": [\n          407,\n          423\n        ],\n        \"semantic_type\": \"\",\n        \"description\": \"\"\n      }\n    },\n    {\n      \"column\": \"NOME_LINHA_PRODUTO\",\n      \"properties\": {\n        \"dtype\": \"category\",\n        \"num_unique_values\": 5,\n        \"samples\": [\n          \"MARGARINA\",\n          \"MAISENA\"\n        ],\n        \"semantic_type\": \"\",\n        \"description\": \"\"\n      }\n    },\n    {\n      \"column\": \"MARCA_LINHA_PRODUTO\",\n      \"properties\": {\n        \"dtype\": \"category\",\n        \"num_unique_values\": 1,\n        \"samples\": [\n          \"INVOLVES ZERO\"\n        ],\n        \"semantic_type\": \"\",\n        \"description\": \"\"\n      }\n    },\n    {\n      \"column\": \"TIPO_COLETA\",\n      \"properties\": {\n        \"dtype\": \"category\",\n        \"num_unique_values\": 2,\n        \"samples\": [\n          \"PONTO EXTRA\"\n        ],\n        \"semantic_type\": \"\",\n        \"description\": \"\"\n      }\n    },\n    {\n      \"column\": \"VALOR\",\n      \"properties\": {\n        \"dtype\": \"category\",\n        \"num_unique_values\": 9,\n        \"samples\": [\n          \"5\"\n        ],\n        \"semantic_type\": \"\",\n        \"description\": \"\"\n      }\n    }\n  ]\n}"
            }
          },
          "metadata": {},
          "execution_count": 40
        }
      ]
    },
    {
      "cell_type": "code",
      "source": [
        "# --- Dimensão Calendário ---\n",
        "dim_calendario = df[['DATA']].drop_duplicates().copy()\n",
        "dim_calendario['DATA'] = pd.to_datetime(dim_calendario['DATA'], errors='coerce')\n",
        "dim_calendario['MES'] = dim_calendario['DATA'].dt.month\n",
        "dim_calendario['ANO'] = dim_calendario['DATA'].dt.year\n",
        "dim_calendario['ID_CALENDARIO'] = range(1, len(dim_calendario)+1)\n",
        "\n",
        "# --- Dimensão Ponto de Venda ---\n",
        "dim_pdv = df[['ID_DATASET', 'NOME_PONTO_VENDA', 'PERFIL_PONTO_VENDA']].drop_duplicates().copy()\n",
        "\n",
        "# --- Dimensão Linha de Produto ---\n",
        "dim_linha = df[['ID_LINHA_PRODUTO', 'NOME_LINHA_PRODUTO', 'MARCA_LINHA_PRODUTO']].drop_duplicates().copy()\n",
        "\n",
        "print(\"Tabelas dimensionais criadas !\")\n",
        "\n",
        "\n"
      ],
      "metadata": {
        "colab": {
          "base_uri": "https://localhost:8080/"
        },
        "id": "hOvriYhcV2MD",
        "outputId": "4c58df26-aaee-439f-adfd-d32592035d4b"
      },
      "execution_count": 41,
      "outputs": [
        {
          "output_type": "stream",
          "name": "stdout",
          "text": [
            "Tabelas dimensionais criadas !\n"
          ]
        }
      ]
    },
    {
      "cell_type": "code",
      "source": [
        "# Filtra registros de Disponibilidade com VALOR = SIM\n",
        "disp = df[(df['TIPO_COLETA'] == 'Disponibilidade') & (df['VALOR'].str.upper() == 'SIM')].copy()\n",
        "\n",
        "# Fato Disponibilidade: contagem de presenças por PDV e linha de produto\n",
        "ft_disp = (disp.groupby(['ID_PONTO_VENDA', 'ID_LINHA_PRODUTO'])\n",
        "                .size()\n",
        "                .reset_index(name='QTD_PRESENCA'))\n",
        "\n",
        "# Adiciona chaves de data (referência a setembro/2020)\n",
        "ft_disp = ft_disp.merge(dim_calendario, left_on=None, right_on=None, how='cross')\n",
        "ft_disp = ft_disp[ft_disp['MES'] == 9]\n",
        "ft_disp = ft_disp[['ID_PONTO_VENDA', 'ID_LINHA_PRODUTO', 'ID_CALENDARIO', 'QTD_PRESENCA']]\n",
        "\n",
        "# Fato Disponibilidade Agregada: total por PDV\n",
        "ft_disp_agr = (ft_disp.groupby(['ID_PONTO_VENDA', 'ID_CALENDARIO'])['QTD_PRESENCA']\n",
        "                      .sum()\n",
        "                      .reset_index(name='QTD_PRESENCA_TOTAL'))\n",
        "\n",
        "print(\"Fatos de Disponibilidade criados com sucesso!\")\n"
      ],
      "metadata": {
        "colab": {
          "base_uri": "https://localhost:8080/"
        },
        "id": "dlo_78P-YU9N",
        "outputId": "2ec55062-2e75-4715-8560-c644c0378467"
      },
      "execution_count": 42,
      "outputs": [
        {
          "output_type": "stream",
          "name": "stdout",
          "text": [
            "Fatos de Disponibilidade criados com sucesso!\n"
          ]
        }
      ]
    },
    {
      "cell_type": "code",
      "source": [
        "# Filtra registros de Ponto Extra\n",
        "ponto = df[df['TIPO_COLETA'] == 'Ponto Extra'].copy()\n",
        "\n",
        "# Fato Ponto Extra: soma de registros por PDV e linha de produto\n",
        "ft_ponto = (ponto.groupby(['ID_PONTO_VENDA', 'ID_LINHA_PRODUTO'])\n",
        "                   .size()\n",
        "                   .reset_index(name='QTD_PONTO_EXTRA'))\n",
        "\n",
        "# Vincula com calendário de setembro/2020\n",
        "ft_ponto = ft_ponto.merge(dim_calendario, left_on=None, right_on=None, how='cross')\n",
        "ft_ponto = ft_ponto[ft_ponto['MES'] == 9]\n",
        "ft_ponto = ft_ponto[['ID_PONTO_VENDA', 'ID_LINHA_PRODUTO', 'ID_CALENDARIO', 'QTD_PONTO_EXTRA']]\n",
        "\n",
        "# Fato Ponto Extra Agregada: soma total por PDV e calendário\n",
        "ft_ponto_agr = (ft_ponto.groupby(['ID_PONTO_VENDA', 'ID_CALENDARIO'])['QTD_PONTO_EXTRA']\n",
        "                         .sum()\n",
        "                         .reset_index(name='QTD_PONTO_EXTRA_TOTAL'))\n",
        "\n",
        "print(\"Fatos de Ponto Extra criados com sucesso!\")\n"
      ],
      "metadata": {
        "colab": {
          "base_uri": "https://localhost:8080/"
        },
        "id": "V3AlkLWwYf3D",
        "outputId": "78c8664a-b384-4245-9c2a-9363012e4200"
      },
      "execution_count": 43,
      "outputs": [
        {
          "output_type": "stream",
          "name": "stdout",
          "text": [
            "Fatos de Ponto Extra criados com sucesso!\n"
          ]
        }
      ]
    },
    {
      "cell_type": "code",
      "source": [
        "output_path = '/content/output'\n",
        "os.makedirs(output_path, exist_ok=True)\n",
        "\n",
        "# Salva todas as tabelas como CSV\n",
        "dim_calendario.to_csv(f'{output_path}/DIM_CALENDARIO.csv', index=False)\n",
        "dim_pdv.to_csv(f'{output_path}/DIM_PONTO_VENDA.csv', index=False)\n",
        "dim_linha.to_csv(f'{output_path}/DIM_LINHA_PRODUTO.csv', index=False)\n",
        "ft_disp.to_csv(f'{output_path}/FT_DISPONIBILIDADE.csv', index=False)\n",
        "ft_disp_agr.to_csv(f'{output_path}/FT_DISPONIBILIDADE_AGREGADA.csv', index=False)\n",
        "ft_ponto.to_csv(f'{output_path}/FT_PONTO_EXTRA.csv', index=False)\n",
        "ft_ponto_agr.to_csv(f'{output_path}/FT_PONTO_EXTRA_AGREGADA.csv', index=False)\n",
        "\n",
        "print(\"Arquivos CSV gerados em /content/output com sucesso!\")\n",
        "print(os.listdir(output_path))\n"
      ],
      "metadata": {
        "colab": {
          "base_uri": "https://localhost:8080/"
        },
        "id": "jTwhLA1fYnHT",
        "outputId": "ee1c7242-8236-4ea1-af82-a7c8ddaff0dc"
      },
      "execution_count": 44,
      "outputs": [
        {
          "output_type": "stream",
          "name": "stdout",
          "text": [
            "Arquivos CSV gerados em /content/output com sucesso!\n",
            "['FT_DISPONIBILIDADE_AGREGADA.csv', 'DIM_LINHA_PRODUTO.csv', 'DIM_CALENDARIO.csv', 'DIM_PONTO_VENDA.csv', 'FT_PONTO_EXTRA.csv', 'FT_DISPONIBILIDADE.csv', 'FT_PONTO_EXTRA_AGREGADA.csv']\n"
          ]
        }
      ]
    },
    {
      "cell_type": "code",
      "source": [
        "print(\"DIM_LINHA_PRODUTO:\")\n",
        "print(dim_linha.head())\n",
        "\n",
        "print(\"\\nFT_DISPONIBILIDADE_AGREGADA:\")\n",
        "print(ft_disp_agr.head())\n",
        "\n",
        "print(\"\\nFT_PONTO_EXTRA_AGREGADA:\")\n",
        "print(ft_ponto_agr.head())\n"
      ],
      "metadata": {
        "colab": {
          "base_uri": "https://localhost:8080/"
        },
        "id": "d1IkfZFtY0Ph",
        "outputId": "25698aa1-115a-4969-fcf8-3ec42ab0e24e"
      },
      "execution_count": 45,
      "outputs": [
        {
          "output_type": "stream",
          "name": "stdout",
          "text": [
            "DIM_LINHA_PRODUTO:\n",
            "   ID_LINHA_PRODUTO  NOME_LINHA_PRODUTO MARCA_LINHA_PRODUTO\n",
            "0               398  BISCOITOS SORTIDOS       INVOLVES ZERO\n",
            "1               407           MARGARINA       INVOLVES ZERO\n",
            "2               408            MANTEIGA       INVOLVES ZERO\n",
            "3               422         LEITE EM PO       INVOLVES ZERO\n",
            "4               423             MAISENA       INVOLVES ZERO\n",
            "\n",
            "FT_DISPONIBILIDADE_AGREGADA:\n",
            "Empty DataFrame\n",
            "Columns: [ID_PONTO_VENDA, ID_CALENDARIO, QTD_PRESENCA_TOTAL]\n",
            "Index: []\n",
            "\n",
            "FT_PONTO_EXTRA_AGREGADA:\n",
            "Empty DataFrame\n",
            "Columns: [ID_PONTO_VENDA, ID_CALENDARIO, QTD_PONTO_EXTRA_TOTAL]\n",
            "Index: []\n"
          ]
        }
      ]
    },
    {
      "cell_type": "code",
      "source": [
        "print(\"Processo total finalizado com sucesso!\")"
      ],
      "metadata": {
        "colab": {
          "base_uri": "https://localhost:8080/"
        },
        "id": "3Yy0VSNXZOKi",
        "outputId": "3f231ae1-6e40-4328-ce5d-5c7fcfcf3430"
      },
      "execution_count": 46,
      "outputs": [
        {
          "output_type": "stream",
          "name": "stdout",
          "text": [
            "Processo total finalizado com sucesso!\n"
          ]
        }
      ]
    }
  ]
}